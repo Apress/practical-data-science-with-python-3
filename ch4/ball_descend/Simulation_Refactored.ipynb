{
 "cells": [
  {
   "cell_type": "markdown",
   "metadata": {},
   "source": [
    "# Simulation of a Ball's Descend in a Terrain - Refactored Version\n",
    "\n",
    "This project simulates where a ball will land in a terrain. It simulates the influence of Newton's law of universal gravitation on the movement of a ball, given by the formula $F=g\\frac{m_1m_2}{r^2}$. Here, F is the resulting gravitational pull between the matching objects, $m_1$ and $m_2$ are their masses, r is the distance between the centers of their masses, and g is the gravitational constant.\n",
    "\n",
    "## Input\n",
    "The terrain's configuration is given as a matrix of integers representing elevation at each spot. For simplicity, assume that the terrain is surrounded by a rectangular wall, that prevents the ball to escape. The inner dimensions of the terrain are NxM, where N and M are integers between 3 and 1000.\n",
    "\n",
    "The ball's initial position is given as a pair of integers (a, b).\n",
    "\n",
    "## Output\n",
    "The result is a list of coordinates denoting the ball's path in a terrain. The first element of the list is the starting position, and the last one is the ending position. It could happen that they are the same, if the ball has emanated from a local minima (dent).\n",
    "\n",
    "## Rules\n",
    "The ball moves according to the next two simple rules:\n",
    "- The ball rolls from the current position into the lowest neighboring one.\n",
    "- If the ball is surrounded by higher points, then it stops."
   ]
  },
  {
   "cell_type": "code",
   "execution_count": 1,
   "metadata": {},
   "outputs": [],
   "source": [
    "# Usual bootstrapping code; just run this cell.\n",
    "import numpy as np\n",
    "from ipywidgets import interact, widgets\n",
    "\n",
    "from pathfinder import find_path"
   ]
  },
  {
   "cell_type": "code",
   "execution_count": 2,
   "metadata": {},
   "outputs": [
    {
     "data": {
      "text/plain": [
       "matrix([[-2,  3,  2,  1],\n",
       "        [-2,  4,  3,  0],\n",
       "        [-3,  3,  1, -3],\n",
       "        [-4,  2, -1,  1],\n",
       "        [-5, -7,  3,  0]])"
      ]
     },
     "execution_count": 2,
     "metadata": {},
     "output_type": "execute_result"
    }
   ],
   "source": [
    "terrain = np.matrix([\n",
    "    [-2, 3, 2, 1],\n",
    "    [-2, 4, 3, 0],\n",
    "    [-3, 3, 1, -3],\n",
    "    [-4, 2, -1, 1],\n",
    "    [-5, -7, 3, 0]\n",
    "])\n",
    "terrain"
   ]
  },
  {
   "cell_type": "markdown",
   "metadata": {},
   "source": [
    "## Result\n",
    "\n",
    "The cell below contains code to invoke the path finding function for a given starting position. The starting coordinates are expected to be correctly set.\n",
    "\n",
    "The terrain data is repeated here for convenience."
   ]
  },
  {
   "cell_type": "code",
   "execution_count": 3,
   "metadata": {},
   "outputs": [
    {
     "data": {
      "text/plain": [
       "matrix([[-2,  3,  2,  1],\n",
       "        [-2,  4,  3,  0],\n",
       "        [-3,  3,  1, -3],\n",
       "        [-4,  2, -1,  1],\n",
       "        [-5, -7,  3,  0]])"
      ]
     },
     "execution_count": 3,
     "metadata": {},
     "output_type": "execute_result"
    }
   ],
   "source": [
    "terrain"
   ]
  },
  {
   "cell_type": "code",
   "execution_count": 4,
   "metadata": {},
   "outputs": [
    {
     "data": {
      "application/vnd.jupyter.widget-view+json": {
       "model_id": "f740b2d719684aadb1d73ed473c65f5c",
       "version_major": 2,
       "version_minor": 0
      },
      "text/plain": [
       "interactive(children=(IntSlider(value=1, description='Start X', max=4), IntSlider(value=1, description='Start …"
      ]
     },
     "metadata": {},
     "output_type": "display_data"
    }
   ],
   "source": [
    "interact(lambda start_x, start_y: find_path(terrain, (start_x, start_y)),\n",
    "         start_x = widgets.IntSlider(value=1, max=terrain.shape[0]-1, description='Start X'),\n",
    "         start_y = widgets.IntSlider(value=1, max=terrain.shape[1]-1, description='Start Y'));"
   ]
  }
 ],
 "metadata": {
  "celltoolbar": "Raw Cell Format",
  "kernelspec": {
   "display_name": "Python 3",
   "language": "python",
   "name": "python3"
  },
  "language_info": {
   "codemirror_mode": {
    "name": "ipython",
    "version": 3
   },
   "file_extension": ".py",
   "mimetype": "text/x-python",
   "name": "python",
   "nbconvert_exporter": "python",
   "pygments_lexer": "ipython3",
   "version": "3.6.6"
  }
 },
 "nbformat": 4,
 "nbformat_minor": 2
}
