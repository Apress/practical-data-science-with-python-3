{
 "cells": [
  {
   "cell_type": "markdown",
   "metadata": {},
   "source": [
    "# Simulation of a Ball's Descend in a Terrain\n",
    "\n",
    "This project simulates where a ball will land in a terrain.\n",
    "\n",
    "## Input\n",
    "The terrain's configuration is given as a matrix of integers representing elevation at each spot. For simplicity, assume that the terrain is surrounded by a rectangular wall, that prevents the ball to escape. The inner dimensions of the terrain are NxM, where N and M are integers between 3 and 1000.\n",
    "\n",
    "The ball's initial position is given as a pair of integers (a, b).\n",
    "\n",
    "## Output\n",
    "The result is a list of coordinates denoting the ball's path in a terrain. The first element of the list is the starting position, and the last one is the ending position. It could happen that they are the same, if the ball has emanated from a local minima (dent).\n",
    "\n",
    "## Rules\n",
    "The ball moves according to the next two simple rules:\n",
    "- The ball rolls from the current position into the lowest neighboring one.\n",
    "- If the ball is surrounded by higher points, then it stops."
   ]
  },
  {
   "cell_type": "code",
   "execution_count": 1,
   "metadata": {},
   "outputs": [],
   "source": [
    "# Usual bootstrapping code; just run this cell.\n",
    "import numpy as np\n",
    "\n",
    "from typing import List, Tuple\n",
    "\n",
    "from ipywidgets import interact, widgets"
   ]
  },
  {
   "cell_type": "code",
   "execution_count": 2,
   "metadata": {},
   "outputs": [
    {
     "data": {
      "text/plain": [
       "matrix([[-2,  3,  2,  1],\n",
       "        [-2,  4,  3,  0],\n",
       "        [-3,  3,  1, -3],\n",
       "        [-4,  2, -1,  1],\n",
       "        [-5, -7,  3,  0]])"
      ]
     },
     "execution_count": 2,
     "metadata": {},
     "output_type": "execute_result"
    }
   ],
   "source": [
    "terrain = np.matrix([\n",
    "    [-2, 3, 2, 1],\n",
    "    [-2, 4, 3, 0],\n",
    "    [-3, 3, 1, -3],\n",
    "    [-4, 2, -1, 1],\n",
    "    [-5, -7, 3, 0]\n",
    "])\n",
    "terrain"
   ]
  },
  {
   "cell_type": "code",
   "execution_count": 3,
   "metadata": {},
   "outputs": [],
   "source": [
    "def wall(terrain:np.matrix, position:Tuple[int,int]) -> bool:\n",
    "    \"\"\"\n",
    "    Checks whether the provided position is hitting the wall.\n",
    "    \n",
    "    Args:\n",
    "    terrain: the terrain's configuration comprised from integer elevation levels.\n",
    "    position: the pair of integers representing the ball's potential position.\n",
    "\n",
    "    Output:\n",
    "    True if the position is hitting the wall, or False otherwise.\n",
    "    \n",
    "    Examples:\n",
    "    >>> wall(np.matrix([[-2, 3, 2, 1]]), (0, 1))\n",
    "    False\n",
    "    >>> wall(np.matrix([[-2, 3, 2, 1]]), (-1, 0))\n",
    "    True\n",
    "    \"\"\"\n",
    "    \n",
    "    x, y = position\n",
    "    length, width = terrain.shape\n",
    "    return (x < 0) or (y < 0) or (x >= length) or (y >= width)\n",
    "\n",
    "def next_neighbor(terrain:np.matrix, position:Tuple[int,int]) -> Tuple[int,int]:\n",
    "    \"\"\"\n",
    "    Returns the position of the lowest neighbor.\n",
    "    \n",
    "    Args:\n",
    "    terrain: the terrain's configuration comprised from integer elevation levels.\n",
    "    position: the pair of integers representing the ball's current position.\n",
    "\n",
    "    Output:\n",
    "    The position (pair of coordinates) of the lowest neighbor.\n",
    "    \n",
    "    Example:\n",
    "    >>> next_neighbor(np.matrix([[-2, 3, 2, 1]]), (0, 1))\n",
    "    (0, 0)\n",
    "    \"\"\"\n",
    "    \n",
    "    x, y = position\n",
    "    allowed_neighbors = []\n",
    "    for delta_x in range(-1, 2):\n",
    "        for delta_y in range(-1, 2):\n",
    "            new_position = (x + delta_x, y + delta_y)\n",
    "            if (not wall(terrain, new_position)):\n",
    "                allowed_neighbors.append((terrain.item(new_position), new_position))\n",
    "    return min(allowed_neighbors)[1]\n",
    "\n",
    "def find_path(terrain:np.matrix, position:Tuple[int,int]) -> List[Tuple[int,int]]:\n",
    "    \"\"\"\n",
    "    Find the path that the ball would follow while descending in the terrain.\n",
    "    \n",
    "    Args:\n",
    "    terrain: the terrain's configuration comprised from integer elevation levels.\n",
    "    position: the pair of integers representing the ball's current position.\n",
    "    \n",
    "    Output:\n",
    "    The list of coordinates of the path.\n",
    "    \n",
    "    Example:\n",
    "    >>> find_path(np.matrix([[-2, 3, 2, 1]]), (0, 1))\n",
    "    [(0, 1), (0, 0)]\n",
    "    \"\"\"\n",
    "    \n",
    "    next_position = next_neighbor(terrain, position)\n",
    "    if (position == next_position):\n",
    "        return [position]\n",
    "    else:\n",
    "        return [position] + find_path(terrain, next_position)"
   ]
  },
  {
   "cell_type": "markdown",
   "metadata": {},
   "source": [
    "## Result\n",
    "\n",
    "The cell below contains code to invoke the path finding function for a given starting position. The starting coordinates are expected to be correctly set.\n",
    "\n",
    "The terrain data is repeated here for convenience."
   ]
  },
  {
   "cell_type": "code",
   "execution_count": 4,
   "metadata": {},
   "outputs": [
    {
     "data": {
      "text/plain": [
       "matrix([[-2,  3,  2,  1],\n",
       "        [-2,  4,  3,  0],\n",
       "        [-3,  3,  1, -3],\n",
       "        [-4,  2, -1,  1],\n",
       "        [-5, -7,  3,  0]])"
      ]
     },
     "execution_count": 4,
     "metadata": {},
     "output_type": "execute_result"
    }
   ],
   "source": [
    "terrain"
   ]
  },
  {
   "cell_type": "code",
   "execution_count": 7,
   "metadata": {},
   "outputs": [
    {
     "data": {
      "application/vnd.jupyter.widget-view+json": {
       "model_id": "9a0e328db74542498357f2cf8a600957",
       "version_major": 2,
       "version_minor": 0
      },
      "text/plain": [
       "interactive(children=(IntSlider(value=1, description='Start X', max=4), IntSlider(value=1, description='Start …"
      ]
     },
     "metadata": {},
     "output_type": "display_data"
    }
   ],
   "source": [
    "interact(lambda start_x, start_y: find_path(terrain, (start_x, start_y)),\n",
    "         start_x = widgets.IntSlider(value=1, max=terrain.shape[0]-1, description='Start X'),\n",
    "         start_y = widgets.IntSlider(value=1, max=terrain.shape[1]-1, description='Start Y'));"
   ]
  },
  {
   "cell_type": "code",
   "execution_count": 6,
   "metadata": {},
   "outputs": [
    {
     "name": "stdout",
     "output_type": "stream",
     "text": [
      "Trying:\n",
      "    find_path(np.matrix([[-2, 3, 2, 1]]), (0, 1))\n",
      "Expecting:\n",
      "    [(0, 1), (0, 0)]\n",
      "ok\n",
      "Trying:\n",
      "    next_neighbor(np.matrix([[-2, 3, 2, 1]]), (0, 1))\n",
      "Expecting:\n",
      "    (0, 0)\n",
      "ok\n",
      "Trying:\n",
      "    wall(np.matrix([[-2, 3, 2, 1]]), (0, 1))\n",
      "Expecting:\n",
      "    False\n",
      "ok\n",
      "Trying:\n",
      "    wall(np.matrix([[-2, 3, 2, 1]]), (-1, 0))\n",
      "Expecting:\n",
      "    True\n",
      "ok\n",
      "1 items had no tests:\n",
      "    __main__\n",
      "3 items passed all tests:\n",
      "   1 tests in __main__.find_path\n",
      "   1 tests in __main__.next_neighbor\n",
      "   2 tests in __main__.wall\n",
      "4 tests in 4 items.\n",
      "4 passed and 0 failed.\n",
      "Test passed.\n"
     ]
    },
    {
     "data": {
      "text/plain": [
       "TestResults(failed=0, attempted=4)"
      ]
     },
     "execution_count": 6,
     "metadata": {},
     "output_type": "execute_result"
    }
   ],
   "source": [
    "# Just run this cell to invoke tests embedded inside function descriptors.\n",
    "import doctest\n",
    "doctest.testmod(verbose=True)"
   ]
  }
 ],
 "metadata": {
  "celltoolbar": "Raw Cell Format",
  "kernelspec": {
   "display_name": "Python 3",
   "language": "python",
   "name": "python3"
  },
  "language_info": {
   "codemirror_mode": {
    "name": "ipython",
    "version": 3
   },
   "file_extension": ".py",
   "mimetype": "text/x-python",
   "name": "python",
   "nbconvert_exporter": "python",
   "pygments_lexer": "ipython3",
   "version": "3.6.5"
  }
 },
 "nbformat": 4,
 "nbformat_minor": 2
}
