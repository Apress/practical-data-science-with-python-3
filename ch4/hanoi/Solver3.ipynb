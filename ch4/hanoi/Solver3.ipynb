{
 "cells": [
  {
   "cell_type": "code",
   "execution_count": 1,
   "metadata": {},
   "outputs": [],
   "source": [
    "def solve_tower(num_disks:int, start:str, end:str, extra:str) -> None:\n",
    "    \"\"\"\n",
    "    Solves the Tower of Hanoi puzzle.\n",
    "    \n",
    "    Args:\n",
    "    num_disks: the number of disks to move.\n",
    "    start: the name of the start pole.\n",
    "    end: the name of the target pole.\n",
    "    extra: the name of the temporary pole.\n",
    "    \n",
    "    Example:\n",
    "    >>> solve_tower(3, 'a', 'c', 'b')\n",
    "    Move top disk from a to c\n",
    "    Move top disk from a to b\n",
    "    Move top disk from c to b\n",
    "    Move top disk from a to c\n",
    "    Move top disk from b to a\n",
    "    Move top disk from b to c\n",
    "    Move top disk from a to c\n",
    "    >>> solve_tower(-1, 'a', 'c', 'b')\n",
    "    \"\"\"\n",
    "    if (num_disks > 0):\n",
    "        solve_tower(num_disks - 1, start, extra, end)\n",
    "        print('Move top disk from', start, 'to', end)\n",
    "        solve_tower(num_disks - 1, extra, end, start)"
   ]
  },
  {
   "cell_type": "code",
   "execution_count": 2,
   "metadata": {},
   "outputs": [
    {
     "name": "stdout",
     "output_type": "stream",
     "text": [
      "Trying:\n",
      "    solve_tower(3, 'a', 'c', 'b')\n",
      "Expecting:\n",
      "    Move top disk from a to c\n",
      "    Move top disk from a to b\n",
      "    Move top disk from c to b\n",
      "    Move top disk from a to c\n",
      "    Move top disk from b to a\n",
      "    Move top disk from b to c\n",
      "    Move top disk from a to c\n",
      "ok\n",
      "Trying:\n",
      "    solve_tower(-1, 'a', 'c', 'b')\n",
      "Expecting nothing\n",
      "ok\n",
      "1 items had no tests:\n",
      "    __main__\n",
      "1 items passed all tests:\n",
      "   2 tests in __main__.solve_tower\n",
      "2 tests in 2 items.\n",
      "2 passed and 0 failed.\n",
      "Test passed.\n"
     ]
    },
    {
     "data": {
      "text/plain": [
       "TestResults(failed=0, attempted=2)"
      ]
     },
     "execution_count": 2,
     "metadata": {},
     "output_type": "execute_result"
    }
   ],
   "source": [
    "import doctest\n",
    "doctest.testmod(verbose=True)"
   ]
  },
  {
   "cell_type": "code",
   "execution_count": 3,
   "metadata": {},
   "outputs": [
    {
     "data": {
      "text/plain": [
       "\u001b[0;31mSignature:\u001b[0m \u001b[0msolve_tower\u001b[0m\u001b[0;34m(\u001b[0m\u001b[0mnum_disks\u001b[0m\u001b[0;34m:\u001b[0m\u001b[0mint\u001b[0m\u001b[0;34m,\u001b[0m \u001b[0mstart\u001b[0m\u001b[0;34m:\u001b[0m\u001b[0mstr\u001b[0m\u001b[0;34m,\u001b[0m \u001b[0mend\u001b[0m\u001b[0;34m:\u001b[0m\u001b[0mstr\u001b[0m\u001b[0;34m,\u001b[0m \u001b[0mextra\u001b[0m\u001b[0;34m:\u001b[0m\u001b[0mstr\u001b[0m\u001b[0;34m)\u001b[0m \u001b[0;34m->\u001b[0m \u001b[0;32mNone\u001b[0m\u001b[0;34m\u001b[0m\u001b[0m\n",
       "\u001b[0;31mDocstring:\u001b[0m\n",
       "Solves the Tower of Hanoi puzzle.\n",
       "\n",
       "Args:\n",
       "num_disks: the number of disks to move.\n",
       "start: the name of the start pole.\n",
       "end: the name of the target pole.\n",
       "extra: the name of the temporary pole.\n",
       "\n",
       "Example:\n",
       ">>> solve_tower(3, 'a', 'c', 'b')\n",
       "Move top disk from a to c\n",
       "Move top disk from a to b\n",
       "Move top disk from c to b\n",
       "Move top disk from a to c\n",
       "Move top disk from b to a\n",
       "Move top disk from b to c\n",
       "Move top disk from a to c\n",
       ">>> solve_tower(-1, 'a', 'c', 'b')\n",
       "\u001b[0;31mFile:\u001b[0m      ~/Projects/pdsp_book/src/ch4/hanoi/<ipython-input-1-6c7aae7506f1>\n",
       "\u001b[0;31mType:\u001b[0m      function\n"
      ]
     },
     "metadata": {},
     "output_type": "display_data"
    }
   ],
   "source": [
    "solve_tower?"
   ]
  }
 ],
 "metadata": {
  "kernelspec": {
   "display_name": "Python 3",
   "language": "python",
   "name": "python3"
  },
  "language_info": {
   "codemirror_mode": {
    "name": "ipython",
    "version": 3
   },
   "file_extension": ".py",
   "mimetype": "text/x-python",
   "name": "python",
   "nbconvert_exporter": "python",
   "pygments_lexer": "ipython3",
   "version": "3.6.5"
  }
 },
 "nbformat": 4,
 "nbformat_minor": 2
}
